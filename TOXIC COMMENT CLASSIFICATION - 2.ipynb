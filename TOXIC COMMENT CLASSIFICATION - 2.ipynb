{
 "cells": [
  {
   "cell_type": "markdown",
   "metadata": {},
   "source": [
    "### IMPORT LIBRARIES"
   ]
  },
  {
   "cell_type": "code",
   "execution_count": 44,
   "metadata": {},
   "outputs": [],
   "source": [
    "#import the required libraries\n",
    "import keras\n",
    "from keras.layers import Embedding\n",
    "from keras.layers import Dense, Flatten, LSTM\n",
    "from keras.layers import Input, GlobalMaxPool1D, Dropout\n",
    "from keras.layers import Activation\n",
    "from keras.models import Model, Sequential\n",
    "\n",
    "import os\n",
    "import pandas as pd\n",
    "import matplotlib.pyplot as plt"
   ]
  },
  {
   "cell_type": "code",
   "execution_count": 45,
   "metadata": {},
   "outputs": [
    {
     "name": "stdout",
     "output_type": "stream",
     "text": [
      "[name: \"/device:CPU:0\"\n",
      "device_type: \"CPU\"\n",
      "memory_limit: 268435456\n",
      "locality {\n",
      "}\n",
      "incarnation: 6008275512728076915\n",
      ", name: \"/device:GPU:0\"\n",
      "device_type: \"GPU\"\n",
      "memory_limit: 4950209331\n",
      "locality {\n",
      "  bus_id: 1\n",
      "  links {\n",
      "  }\n",
      "}\n",
      "incarnation: 11155609329136859541\n",
      "physical_device_desc: \"device: 0, name: GeForce GTX 1060 with Max-Q Design, pci bus id: 0000:01:00.0, compute capability: 6.1\"\n",
      "]\n"
     ]
    }
   ],
   "source": [
    "#checking for the available gpu\n",
    "from tensorflow.python.client import device_lib\n",
    "\n",
    "print(device_lib.list_local_devices())"
   ]
  },
  {
   "cell_type": "markdown",
   "metadata": {},
   "source": [
    "### LOAD THE DATA"
   ]
  },
  {
   "cell_type": "code",
   "execution_count": 46,
   "metadata": {},
   "outputs": [],
   "source": [
    "#read the data files\n",
    "train = pd.read_csv('F:/datasets/TOXIC COMMENT CLASSIFICATION/train.csv')\n",
    "test = pd.read_csv('F:/datasets/TOXIC COMMENT CLASSIFICATION/test.csv')"
   ]
  },
  {
   "cell_type": "code",
   "execution_count": 47,
   "metadata": {},
   "outputs": [
    {
     "data": {
      "text/html": [
       "<div>\n",
       "<style scoped>\n",
       "    .dataframe tbody tr th:only-of-type {\n",
       "        vertical-align: middle;\n",
       "    }\n",
       "\n",
       "    .dataframe tbody tr th {\n",
       "        vertical-align: top;\n",
       "    }\n",
       "\n",
       "    .dataframe thead th {\n",
       "        text-align: right;\n",
       "    }\n",
       "</style>\n",
       "<table border=\"1\" class=\"dataframe\">\n",
       "  <thead>\n",
       "    <tr style=\"text-align: right;\">\n",
       "      <th></th>\n",
       "      <th>id</th>\n",
       "      <th>comment_text</th>\n",
       "      <th>toxic</th>\n",
       "      <th>severe_toxic</th>\n",
       "      <th>obscene</th>\n",
       "      <th>threat</th>\n",
       "      <th>insult</th>\n",
       "      <th>identity_hate</th>\n",
       "    </tr>\n",
       "  </thead>\n",
       "  <tbody>\n",
       "    <tr>\n",
       "      <th>0</th>\n",
       "      <td>0000997932d777bf</td>\n",
       "      <td>Explanation\\nWhy the edits made under my usern...</td>\n",
       "      <td>0</td>\n",
       "      <td>0</td>\n",
       "      <td>0</td>\n",
       "      <td>0</td>\n",
       "      <td>0</td>\n",
       "      <td>0</td>\n",
       "    </tr>\n",
       "    <tr>\n",
       "      <th>1</th>\n",
       "      <td>000103f0d9cfb60f</td>\n",
       "      <td>D'aww! He matches this background colour I'm s...</td>\n",
       "      <td>0</td>\n",
       "      <td>0</td>\n",
       "      <td>0</td>\n",
       "      <td>0</td>\n",
       "      <td>0</td>\n",
       "      <td>0</td>\n",
       "    </tr>\n",
       "    <tr>\n",
       "      <th>2</th>\n",
       "      <td>000113f07ec002fd</td>\n",
       "      <td>Hey man, I'm really not trying to edit war. It...</td>\n",
       "      <td>0</td>\n",
       "      <td>0</td>\n",
       "      <td>0</td>\n",
       "      <td>0</td>\n",
       "      <td>0</td>\n",
       "      <td>0</td>\n",
       "    </tr>\n",
       "    <tr>\n",
       "      <th>3</th>\n",
       "      <td>0001b41b1c6bb37e</td>\n",
       "      <td>\"\\nMore\\nI can't make any real suggestions on ...</td>\n",
       "      <td>0</td>\n",
       "      <td>0</td>\n",
       "      <td>0</td>\n",
       "      <td>0</td>\n",
       "      <td>0</td>\n",
       "      <td>0</td>\n",
       "    </tr>\n",
       "    <tr>\n",
       "      <th>4</th>\n",
       "      <td>0001d958c54c6e35</td>\n",
       "      <td>You, sir, are my hero. Any chance you remember...</td>\n",
       "      <td>0</td>\n",
       "      <td>0</td>\n",
       "      <td>0</td>\n",
       "      <td>0</td>\n",
       "      <td>0</td>\n",
       "      <td>0</td>\n",
       "    </tr>\n",
       "  </tbody>\n",
       "</table>\n",
       "</div>"
      ],
      "text/plain": [
       "                 id                                       comment_text  toxic  \\\n",
       "0  0000997932d777bf  Explanation\\nWhy the edits made under my usern...      0   \n",
       "1  000103f0d9cfb60f  D'aww! He matches this background colour I'm s...      0   \n",
       "2  000113f07ec002fd  Hey man, I'm really not trying to edit war. It...      0   \n",
       "3  0001b41b1c6bb37e  \"\\nMore\\nI can't make any real suggestions on ...      0   \n",
       "4  0001d958c54c6e35  You, sir, are my hero. Any chance you remember...      0   \n",
       "\n",
       "   severe_toxic  obscene  threat  insult  identity_hate  \n",
       "0             0        0       0       0              0  \n",
       "1             0        0       0       0              0  \n",
       "2             0        0       0       0              0  \n",
       "3             0        0       0       0              0  \n",
       "4             0        0       0       0              0  "
      ]
     },
     "execution_count": 47,
     "metadata": {},
     "output_type": "execute_result"
    }
   ],
   "source": [
    "#lets look at the data\n",
    "train.head()"
   ]
  },
  {
   "cell_type": "code",
   "execution_count": 48,
   "metadata": {},
   "outputs": [
    {
     "name": "stdout",
     "output_type": "stream",
     "text": [
      "[0 1]\n",
      "[0 1]\n",
      "[0 1]\n",
      "[0 1]\n",
      "[0 1]\n",
      "[0 1]\n"
     ]
    }
   ],
   "source": [
    "#looking at the unique values in our output classes\n",
    "print(train['toxic'].unique())\n",
    "print(train['severe_toxic'].unique())\n",
    "print(train['obscene'].unique())\n",
    "print(train['threat'].unique())\n",
    "print(train['insult'].unique())\n",
    "print(train['identity_hate'].unique())"
   ]
  },
  {
   "cell_type": "markdown",
   "metadata": {},
   "source": [
    "Let's break down our input features and the output labels that we have to predict\n",
    "\n",
    "1. Our input features which will be our inputs to our DNN architecture will be the column consisting of the comments text.\n",
    "\n",
    "2. As our input features are in the form of a text and not in the form of numbers and integers which is usually prefferd by the ML algorithms we will have to find a way to convert the raw text in the form of integers so that they can be fed to our model. (how to do this explained later)\n",
    "\n",
    "3. Also the input texts are of different lengths. But our model expects the input sequences to have the same length. So we need to find a way to make all the lenght of input sequences equal.\n",
    "\n",
    "4. Coming to our labels that we have to predict, we got in total six predictor classes. Depending on the input text we have to predict to which class our input text can be classified.\n",
    "\n",
    "5. The values of our output labels are 0 and 1, corresponding to whether a particular statement can be classified in that class or not.\n",
    "\n",
    "\n",
    "LET'S SEE FURTHER HOW TO SOLVE OUR PROBLEM"
   ]
  },
  {
   "cell_type": "code",
   "execution_count": 49,
   "metadata": {},
   "outputs": [
    {
     "data": {
      "text/html": [
       "<div>\n",
       "<style scoped>\n",
       "    .dataframe tbody tr th:only-of-type {\n",
       "        vertical-align: middle;\n",
       "    }\n",
       "\n",
       "    .dataframe tbody tr th {\n",
       "        vertical-align: top;\n",
       "    }\n",
       "\n",
       "    .dataframe thead th {\n",
       "        text-align: right;\n",
       "    }\n",
       "</style>\n",
       "<table border=\"1\" class=\"dataframe\">\n",
       "  <thead>\n",
       "    <tr style=\"text-align: right;\">\n",
       "      <th></th>\n",
       "      <th>id</th>\n",
       "      <th>comment_text</th>\n",
       "    </tr>\n",
       "  </thead>\n",
       "  <tbody>\n",
       "    <tr>\n",
       "      <th>0</th>\n",
       "      <td>00001cee341fdb12</td>\n",
       "      <td>Yo bitch Ja Rule is more succesful then you'll...</td>\n",
       "    </tr>\n",
       "    <tr>\n",
       "      <th>1</th>\n",
       "      <td>0000247867823ef7</td>\n",
       "      <td>== From RfC == \\n\\n The title is fine as it is...</td>\n",
       "    </tr>\n",
       "    <tr>\n",
       "      <th>2</th>\n",
       "      <td>00013b17ad220c46</td>\n",
       "      <td>\" \\n\\n == Sources == \\n\\n * Zawe Ashton on Lap...</td>\n",
       "    </tr>\n",
       "    <tr>\n",
       "      <th>3</th>\n",
       "      <td>00017563c3f7919a</td>\n",
       "      <td>:If you have a look back at the source, the in...</td>\n",
       "    </tr>\n",
       "    <tr>\n",
       "      <th>4</th>\n",
       "      <td>00017695ad8997eb</td>\n",
       "      <td>I don't anonymously edit articles at all.</td>\n",
       "    </tr>\n",
       "  </tbody>\n",
       "</table>\n",
       "</div>"
      ],
      "text/plain": [
       "                 id                                       comment_text\n",
       "0  00001cee341fdb12  Yo bitch Ja Rule is more succesful then you'll...\n",
       "1  0000247867823ef7  == From RfC == \\n\\n The title is fine as it is...\n",
       "2  00013b17ad220c46  \" \\n\\n == Sources == \\n\\n * Zawe Ashton on Lap...\n",
       "3  00017563c3f7919a  :If you have a look back at the source, the in...\n",
       "4  00017695ad8997eb          I don't anonymously edit articles at all."
      ]
     },
     "execution_count": 49,
     "metadata": {},
     "output_type": "execute_result"
    }
   ],
   "source": [
    "test.head()"
   ]
  },
  {
   "cell_type": "markdown",
   "metadata": {},
   "source": [
    "**As can be seen from the dataset, in the train dataset, our X training is the column have all the toxic comments and the remaining columns i.e ['toxic', 'severe_toxic', 'obscene', 'threat', 'insult', identity_hate'] are the Y labels which we have to predict**"
   ]
  },
  {
   "cell_type": "code",
   "execution_count": 50,
   "metadata": {},
   "outputs": [
    {
     "name": "stdout",
     "output_type": "stream",
     "text": [
      "id               False\n",
      "comment_text     False\n",
      "toxic            False\n",
      "severe_toxic     False\n",
      "obscene          False\n",
      "threat           False\n",
      "insult           False\n",
      "identity_hate    False\n",
      "dtype: bool\n"
     ]
    }
   ],
   "source": [
    "#check for any null values in our dataset\n",
    "print(train.isnull().any())"
   ]
  },
  {
   "cell_type": "code",
   "execution_count": 51,
   "metadata": {},
   "outputs": [
    {
     "name": "stdout",
     "output_type": "stream",
     "text": [
      "id              False\n",
      "comment_text    False\n",
      "dtype: bool\n"
     ]
    }
   ],
   "source": [
    "#again checking for any null values in the test dataset\n",
    "print(test.isnull().any())"
   ]
  },
  {
   "cell_type": "code",
   "execution_count": 52,
   "metadata": {},
   "outputs": [],
   "source": [
    "#divide our training data into features X and label Y\n",
    "X_train = train['comment_text'] #will be used to train our model on\n",
    "X_test = test['comment_text'] #will be used to predict the output labels to see how well our model has trained\n",
    "y_train = train[['toxic', 'severe_toxic', 'obscene', 'threat', 'insult', 'identity_hate']].values"
   ]
  },
  {
   "cell_type": "code",
   "execution_count": 53,
   "metadata": {},
   "outputs": [
    {
     "data": {
      "text/plain": [
       "(159571, 6)"
      ]
     },
     "execution_count": 53,
     "metadata": {},
     "output_type": "execute_result"
    }
   ],
   "source": [
    "y_train.shape #as expected total 6 columns for 6 predictor classes"
   ]
  },
  {
   "cell_type": "markdown",
   "metadata": {},
   "source": [
    "### PREPROCESSING USING KERAS"
   ]
  },
  {
   "cell_type": "markdown",
   "metadata": {},
   "source": [
    "Preprocessing is the most important step when it comes to any of the dataset before it is passed to a Machine Learning model. This fact is no less true when it comes to dealing with text dataset.\n",
    "\n",
    "Infact for text dataset preprocessing is a must and without which we cannot move forward in training our model.\n",
    "\n",
    "The fact that our algorithm only understand numbers and integers and cannot understand strings or text data makes preprocessing even more valuable and essential in Natural Language Processing.\n",
    "\n",
    "When it comes to preprocessing a text data the most common steps are:\n",
    "1. The entire sentence needs to be converted in the form of small tokens or into individual words. By doing this it helps us to assign each word with a unique integer value called as index or ID of that word.\n",
    "\n",
    "\n",
    "2. Tokenization also helps us to find the total number of unique words in our vocabulary which is later to be fed in our model.\n",
    "\n",
    "\n",
    "3. Once the tokenization is done, the next common step is to remove stopwords. Stopwords are the the most commonly occuring words in our vocabulary. Words that won't generally matter even if they are taken out from our vocabulary. For example words like 'the', 'and', 'so', 'if' etc are the stopwords. But we don't always have to remove the stopwords. Stopwords are only removed when their absence won't affect our model prediction much, in cases like classification of documents according to the topics, stopwords can be removed as we only have to focus on words that carry more importance in our documents.\n",
    "\n",
    "\n",
    "4. There are various other ways in which preprocessing of the text data can be done."
   ]
  },
  {
   "cell_type": "markdown",
   "metadata": {},
   "source": [
    "**KERAS** is a high level deep learning API which is also very easy when it comes to applying deep learning algorithms. Keras offers a 'Tokenizer' class which carries out tokenisation for us and also convert all the text data into lowercase"
   ]
  },
  {
   "cell_type": "code",
   "execution_count": 54,
   "metadata": {},
   "outputs": [],
   "source": [
    "#import the tokenizer class from the keras api\n",
    "from keras.preprocessing.text import Tokenizer"
   ]
  },
  {
   "cell_type": "code",
   "execution_count": 55,
   "metadata": {},
   "outputs": [],
   "source": [
    "#let's calculate the vocabulary size as well which will be given as an input to the Embedding layer\n",
    "tokens = Tokenizer() #tokenizes our data\n",
    "tokens.fit_on_texts(X_train)\n",
    "vocab_size = len(tokens.word_index) + 1 #size of the total number of uniques tokens in our dataset\n",
    "tokenized_train = tokens.texts_to_sequences(X_train) #converting our tokens into sequence of integers\n",
    "tokenized_test = tokens.texts_to_sequences(X_test)"
   ]
  },
  {
   "cell_type": "code",
   "execution_count": 56,
   "metadata": {},
   "outputs": [
    {
     "name": "stdout",
     "output_type": "stream",
     "text": [
      "[[688, 75, 1, 126, 130, 177, 29, 672, 4511, 12052, 1116, 86, 331, 51, 2278, 11448, 50, 6864, 15, 60, 2756, 148, 7, 2937, 34, 117, 1221, 15190, 2825, 4, 45, 59, 244, 1, 365, 31, 1, 38, 27, 143, 73, 3462, 89, 3085, 4583, 2273, 985], [96145, 52, 2635, 13, 555, 3809, 73, 4556, 2706, 21, 94, 38, 803, 2679, 992, 589, 8377, 182]]\n"
     ]
    }
   ],
   "source": [
    "print(tokenized_train[:2]) #the first comment "
   ]
  },
  {
   "cell_type": "markdown",
   "metadata": {},
   "source": [
    "**1. Now if you observe the vector representation of each comment, the size of each vector is different.**\n",
    "\n",
    "**2. But our machine learning model expects the size of our input data to be same throughout.**\n",
    "\n",
    "**3. Hence we will be doing padding**"
   ]
  },
  {
   "cell_type": "code",
   "execution_count": 57,
   "metadata": {},
   "outputs": [],
   "source": [
    "#import the pad_sequences class from the keras api\n",
    "from keras.preprocessing.sequence import pad_sequences"
   ]
  },
  {
   "cell_type": "code",
   "execution_count": 58,
   "metadata": {},
   "outputs": [],
   "source": [
    "max_len = 300 #maximum length of the padded sequence that we want (one of the hyperparameter that can be tuned)\n",
    "padded_train = pad_sequences(tokenized_train, maxlen = max_len, padding = 'post') #post padding our sequences with zeros\n",
    "padded_test = pad_sequences(tokenized_test, maxlen = max_len)"
   ]
  },
  {
   "cell_type": "code",
   "execution_count": 59,
   "metadata": {},
   "outputs": [
    {
     "data": {
      "text/plain": [
       "array([[  688,    75,     1, ...,     0,     0,     0],\n",
       "       [96145,    52,  2635, ...,     0,     0,     0],\n",
       "       [  412,   437,    73, ...,     0,     0,     0],\n",
       "       ...,\n",
       "       [   20,   199,     2, ...,     0,     0,     0],\n",
       "       [  263,    22,     1, ...,     0,     0,     0],\n",
       "       [10960,    15,    13, ...,     0,     0,     0]])"
      ]
     },
     "execution_count": 59,
     "metadata": {},
     "output_type": "execute_result"
    }
   ],
   "source": [
    "padded_train[:10] #as you can observe once our sentence ends the padding starts and continues until we have a vector of max_len"
   ]
  },
  {
   "cell_type": "markdown",
   "metadata": {},
   "source": [
    "### BUILD THE MODEL USING SEQUENTIAL API"
   ]
  },
  {
   "cell_type": "markdown",
   "metadata": {},
   "source": [
    "KERAS provides two API's in order to build a deep learning model\n",
    "\n",
    "**1. Sequential API**\n",
    "\n",
    "**2. Functional API**\n",
    "\n",
    "we will build our model using both the API's"
   ]
  },
  {
   "cell_type": "markdown",
   "metadata": {},
   "source": [
    "The structure of our model will be as follows:\n",
    "\n",
    "1. We will create an instance of the Sequential API.\n",
    "\n",
    "2. We will add an Embedding layer as our first layer of the model. Now Embedding layer maps our input sequences in an Embedding space. Our input sequences are nothing but vectors representing each unique word in our vocabulary. So each point in the Embedding space represents the position of that word with it's vector representation.\n",
    "\n",
    "3. The Embedding layer requires three parameters to be sepcified. The first is the input_dim which is nothing but the size of our vocabulary. The second parameter is the output_dim which represents the Embedding space dimension that we want (can be tuned). The third one is the input_length which is the input maximum sequence length of our input vectors.\n",
    "\n",
    "4. The layer which is to be added on the top of the Embedding layer is the LSTM layer. The first parameter which is to be specified is the number of nodel in LSTM layer.\n",
    "\n",
    "5. We can also tweak with the activation function that we want to apply on our LSTM layer.\n",
    "\n",
    "6. Next we will convert our 2-dimensional matrix representation into a 1 dimensional vector so that it can be fed to the fully connected layer.\n",
    "\n",
    "7. Next we will add a fully connected layer with number of neurons to be specified along with the activation function.\n",
    "\n",
    "8. And lastly we will add another fully connected layer which will be our output layer. This layer will have in total 6 nodes corresponding to each classification label that we want to classify our input text into."
   ]
  },
  {
   "cell_type": "code",
   "execution_count": 29,
   "metadata": {},
   "outputs": [
    {
     "name": "stdout",
     "output_type": "stream",
     "text": [
      "_________________________________________________________________\n",
      "Layer (type)                 Output Shape              Param #   \n",
      "=================================================================\n",
      "embedding_2 (Embedding)      (None, 300, 150)          31550700  \n",
      "_________________________________________________________________\n",
      "lstm_2 (LSTM)                (None, 300, 60)           50640     \n",
      "_________________________________________________________________\n",
      "activation_2 (Activation)    (None, 300, 60)           0         \n",
      "_________________________________________________________________\n",
      "flatten_2 (Flatten)          (None, 18000)             0         \n",
      "_________________________________________________________________\n",
      "dense_3 (Dense)              (None, 100)               1800100   \n",
      "_________________________________________________________________\n",
      "dense_4 (Dense)              (None, 6)                 606       \n",
      "=================================================================\n",
      "Total params: 33,402,046\n",
      "Trainable params: 33,402,046\n",
      "Non-trainable params: 0\n",
      "_________________________________________________________________\n"
     ]
    }
   ],
   "source": [
    "model = Sequential() #instatiating the sequential API\n",
    "model.add(Embedding(input_dim = vocab_size, output_dim = 150, input_length = max_len))\n",
    "model.add(LSTM(60, return_sequences = True))\n",
    "model.add(Activation('relu'))\n",
    "#model.add(LSTM(120, return_sequences = True))\n",
    "#model.add(Activation('relu'))\n",
    "model.add(Flatten())\n",
    "model.add(Dense(100, activation = 'relu'))\n",
    "model.add(Dense(6, activation = 'softmax'))\n",
    "\n",
    "model.summary()"
   ]
  },
  {
   "cell_type": "code",
   "execution_count": 30,
   "metadata": {},
   "outputs": [],
   "source": [
    "#compile the model\n",
    "model.compile(optimizer = 'ADAM', loss = 'binary_crossentropy', metrics = ['accuracy'])"
   ]
  },
  {
   "cell_type": "code",
   "execution_count": 32,
   "metadata": {},
   "outputs": [
    {
     "name": "stdout",
     "output_type": "stream",
     "text": [
      "Epoch 1/5\n",
      "159571/159571 [==============================] - 1134s 7ms/step - loss: 0.2174 - acc: 0.9662\n",
      "Epoch 2/5\n",
      "159571/159571 [==============================] - 1136s 7ms/step - loss: 0.2129 - acc: 0.9680\n",
      "Epoch 3/5\n",
      "159571/159571 [==============================] - 1139s 7ms/step - loss: 0.2090 - acc: 0.9696\n",
      "Epoch 4/5\n",
      "159571/159571 [==============================] - 1138s 7ms/step - loss: 0.2061 - acc: 0.9706\n",
      "Epoch 5/5\n",
      "159571/159571 [==============================] - 1085s 7ms/step - loss: 0.2041 - acc: 0.9715\n"
     ]
    }
   ],
   "source": [
    "#fit the model\n",
    "history = model.fit(padded_train, y_train, epochs = 5, batch_size = 64)"
   ]
  },
  {
   "cell_type": "markdown",
   "metadata": {},
   "source": [
    "### LSTM MODEL USING FUNCTIONAL API"
   ]
  },
  {
   "cell_type": "markdown",
   "metadata": {},
   "source": [
    "While building our model using the functional API we have used some new layers in our network\n",
    "\n",
    "1. Starting few layers are same as the previous, the layer called Dropout is been added here. Now Dropout is a regularisation technique which we implement to prevent out model from overfitting to our training data. This technique randomly drops (or switches off) nodes from a particular layer with the given probability. So that the input and output both are blocked for the node which is been dropped.\n",
    "\n",
    "2. Here we have stacked two **(LSTM-->Activation-->GlobalMaxPool1D-->Dropout)** onto each other followed by few fully connected layers and finally another fully connected layer with 6 neurons as the output layer of our model."
   ]
  },
  {
   "cell_type": "code",
   "execution_count": 20,
   "metadata": {},
   "outputs": [],
   "source": [
    "input_model = Input(shape = (max_len, ))\n",
    "x = Embedding(input_dim = vocab_size, output_dim = 120)(input_model)\n",
    "x = LSTM(60, return_sequences = True)(x)\n",
    "x = Activation('relu')(x)\n",
    "#x = GlobalMaxPool1D()(x)\n",
    "x = Dropout(0.2)(x)\n",
    "\n",
    "x = LSTM(100, return_sequences = True)(x)\n",
    "x = Activation('relu')(x)\n",
    "x = GlobalMaxPool1D()(x)\n",
    "x = Dropout(0.2)(x)\n",
    "\n",
    "x = Dense(150, activation = 'relu')(x)\n",
    "x = Dropout(0.5)(x)\n",
    "x = Dense(100, activation = 'relu')(x)\n",
    "x = Dropout(0.5)(x)\n",
    "x = Dense(6, activation = 'sigmoid')(x)"
   ]
  },
  {
   "cell_type": "code",
   "execution_count": 21,
   "metadata": {},
   "outputs": [],
   "source": [
    "model_1 = Model(inputs = input_model, outputs = x)\n",
    "model_1.compile(loss = 'binary_crossentropy', optimizer = 'ADAM', metrics = ['accuracy'])"
   ]
  },
  {
   "cell_type": "code",
   "execution_count": 22,
   "metadata": {},
   "outputs": [
    {
     "name": "stdout",
     "output_type": "stream",
     "text": [
      "_________________________________________________________________\n",
      "Layer (type)                 Output Shape              Param #   \n",
      "=================================================================\n",
      "input_1 (InputLayer)         (None, 300)               0         \n",
      "_________________________________________________________________\n",
      "embedding_1 (Embedding)      (None, 300, 120)          25240560  \n",
      "_________________________________________________________________\n",
      "lstm_1 (LSTM)                (None, 300, 60)           43440     \n",
      "_________________________________________________________________\n",
      "activation_1 (Activation)    (None, 300, 60)           0         \n",
      "_________________________________________________________________\n",
      "dropout_1 (Dropout)          (None, 300, 60)           0         \n",
      "_________________________________________________________________\n",
      "lstm_2 (LSTM)                (None, 300, 100)          64400     \n",
      "_________________________________________________________________\n",
      "activation_2 (Activation)    (None, 300, 100)          0         \n",
      "_________________________________________________________________\n",
      "global_max_pooling1d_1 (Glob (None, 100)               0         \n",
      "_________________________________________________________________\n",
      "dropout_2 (Dropout)          (None, 100)               0         \n",
      "_________________________________________________________________\n",
      "dense_1 (Dense)              (None, 150)               15150     \n",
      "_________________________________________________________________\n",
      "dropout_3 (Dropout)          (None, 150)               0         \n",
      "_________________________________________________________________\n",
      "dense_2 (Dense)              (None, 100)               15100     \n",
      "_________________________________________________________________\n",
      "dropout_4 (Dropout)          (None, 100)               0         \n",
      "_________________________________________________________________\n",
      "dense_3 (Dense)              (None, 6)                 606       \n",
      "=================================================================\n",
      "Total params: 25,379,256\n",
      "Trainable params: 25,379,256\n",
      "Non-trainable params: 0\n",
      "_________________________________________________________________\n"
     ]
    }
   ],
   "source": [
    "#check the number of parameters in our model\n",
    "model_1.summary()"
   ]
  },
  {
   "cell_type": "code",
   "execution_count": 23,
   "metadata": {},
   "outputs": [
    {
     "name": "stdout",
     "output_type": "stream",
     "text": [
      "Train on 111699 samples, validate on 47872 samples\n",
      "Epoch 1/5\n",
      "111699/111699 [==============================] - 4134s 37ms/step - loss: 0.0950 - acc: 0.9696 - val_loss: 0.0579 - val_acc: 0.9785\n",
      "Epoch 2/5\n",
      "111699/111699 [==============================] - 1671s 15ms/step - loss: 0.0523 - acc: 0.9811 - val_loss: 0.0511 - val_acc: 0.9811\n",
      "Epoch 3/5\n",
      "111699/111699 [==============================] - 1747s 16ms/step - loss: 0.0436 - acc: 0.9836 - val_loss: 0.0526 - val_acc: 0.9817\n",
      "Epoch 4/5\n",
      "111699/111699 [==============================] - 4662s 42ms/step - loss: 0.0384 - acc: 0.9854 - val_loss: 0.0537 - val_acc: 0.9811\n",
      "Epoch 5/5\n",
      "111699/111699 [==============================] - 2994s 27ms/step - loss: 0.0345 - acc: 0.9868 - val_loss: 0.0553 - val_acc: 0.9807\n"
     ]
    }
   ],
   "source": [
    "history_1 = model_1.fit(padded_train, y_train, batch_size = 64, epochs = 5, validation_split = 0.3)"
   ]
  },
  {
   "cell_type": "markdown",
   "metadata": {},
   "source": [
    "### PLOT THE ACCURACY AND LOSS CURVES"
   ]
  },
  {
   "cell_type": "code",
   "execution_count": 34,
   "metadata": {},
   "outputs": [
    {
     "data": {
      "image/png": "[encoded data removed]",
      "text/plain": [
       "<Figure size 1008x720 with 2 Axes>"
      ]
     },
     "metadata": {},
     "output_type": "display_data"
    }
   ],
   "source": [
    "plt.figure(figsize = (14,10))\n",
    "plt.subplot(2, 1, 1)\n",
    "plt.plot(range(5), history_1.history['acc'], 'b.-')\n",
    "plt.plot(range(5), history_1.history['val_acc'], 'r--')\n",
    "plt.xlabel('EPOCHS')\n",
    "plt.ylabel('TRAIN ACCURACY vs VALIDATION ACCURACY')\n",
    "\n",
    "plt.subplot(2, 1, 2)\n",
    "plt.plot(range(5), history_1.history['loss'], 'b.-')\n",
    "plt.plot(range(5), history_1.history['val_loss'], 'r--')\n",
    "plt.xlabel('EPOCHS')\n",
    "plt.ylabel('TRAIN LOSS vs VALIDATION LOSS')\n",
    "\n",
    "plt.show()"
   ]
  },
  {
   "cell_type": "markdown",
   "metadata": {},
   "source": [
    "### SAVE THE WIEGHTS FOR THE MODEL"
   ]
  },
  {
   "cell_type": "code",
   "execution_count": 37,
   "metadata": {},
   "outputs": [],
   "source": [
    "model_1.save('TTC_MODEL')\n",
    "model_1.save_weights('MODEL1.h5')"
   ]
  },
  {
   "cell_type": "markdown",
   "metadata": {},
   "source": [
    "### SAVING AND LOADING THE ENTIRE MODEL"
   ]
  },
  {
   "cell_type": "code",
   "execution_count": 42,
   "metadata": {},
   "outputs": [
    {
     "name": "stdout",
     "output_type": "stream",
     "text": [
      "Saved model to disk\n"
     ]
    }
   ],
   "source": [
    "# serialize model to YAML\n",
    "model_yaml = model_1.to_yaml()\n",
    "with open(\"model.yaml\", \"w\") as yaml_file:\n",
    "    yaml_file.write(model_yaml)\n",
    "print(\"Saved model to disk\")"
   ]
  },
  {
   "cell_type": "code",
   "execution_count": 43,
   "metadata": {},
   "outputs": [
    {
     "name": "stdout",
     "output_type": "stream",
     "text": [
      "Saved model to disk\n"
     ]
    }
   ],
   "source": [
    "# serialize model to JSON\n",
    "model_json = model_1.to_json()\n",
    "with open(\"model.json\", \"w\") as json_file:\n",
    "    json_file.write(model_json)\n",
    "print(\"Saved model to disk\")"
   ]
  },
  {
   "cell_type": "markdown",
   "metadata": {},
   "source": [
    "### USING PRE-TRAINED WORD EMBEDDINGS"
   ]
  },
  {
   "cell_type": "markdown",
   "metadata": {},
   "source": [
    "Pre-trained word embeddings are the ones which are usually trained on a large amount of corpus. Using such pre-trained word embeddings on your model can help achieve the model very good amount of accuracy. Using pre-trained word embeddings helps you to avoid training your own word embedding from scratch. This method can be employed when the available amount of dataset is not too much. **Word2Vec(by google)** and **Glove(by stanford NLP group)** are the two most commonly use pre-trained word embeddings."
   ]
  },
  {
   "cell_type": "code",
   "execution_count": 66,
   "metadata": {},
   "outputs": [],
   "source": [
    "import numpy as np\n",
    "\n",
    "embedding_dim = 50\n",
    "#def create_embedding_matrix(filepath, embedding_dim):\n",
    "vocab_size = len(tokens.word_index) + 1  # Adding again 1 because of reserved 0 index\n",
    "embedding_matrix = np.zeros((vocab_size, embedding_dim))\n",
    "\n",
    "with open('F:/datasets/GLOVE PRETRAINED MODEL/glove.6B.50d.txt', encoding = 'utf-8') as f:\n",
    "    for line in f:\n",
    "        word, *vector = line.split()\n",
    "        if word in tokens.word_index:\n",
    "            idx = tokens.word_index[word] \n",
    "            embedding_matrix[idx] = np.array(vector, dtype=np.float32)[:embedding_dim]"
   ]
  },
  {
   "cell_type": "code",
   "execution_count": 69,
   "metadata": {},
   "outputs": [
    {
     "name": "stdout",
     "output_type": "stream",
     "text": [
      "_________________________________________________________________\n",
      "Layer (type)                 Output Shape              Param #   \n",
      "=================================================================\n",
      "embedding_4 (Embedding)      (None, 300, 50)           10516900  \n",
      "_________________________________________________________________\n",
      "global_max_pooling1d_4 (Glob (None, 50)                0         \n",
      "_________________________________________________________________\n",
      "dropout_7 (Dropout)          (None, 50)                0         \n",
      "_________________________________________________________________\n",
      "dense_6 (Dense)              (None, 10)                510       \n",
      "_________________________________________________________________\n",
      "dropout_8 (Dropout)          (None, 10)                0         \n",
      "_________________________________________________________________\n",
      "dense_7 (Dense)              (None, 6)                 66        \n",
      "=================================================================\n",
      "Total params: 10,517,476\n",
      "Trainable params: 576\n",
      "Non-trainable params: 10,516,900\n",
      "_________________________________________________________________\n"
     ]
    }
   ],
   "source": [
    "model_2 = Sequential()\n",
    "model_2.add(Embedding(vocab_size, embedding_dim, weights = [embedding_matrix], input_length = max_len, trainable=False))\n",
    "model_2.add(GlobalMaxPool1D())\n",
    "model_2.add(Dropout(0.25))\n",
    "model_2.add(Dense(10, activation = 'relu'))\n",
    "model_2.add(Dropout(0.5))\n",
    "model_2.add(Dense(6, activation = 'sigmoid'))\n",
    "model_2.summary()"
   ]
  },
  {
   "cell_type": "code",
   "execution_count": 78,
   "metadata": {},
   "outputs": [],
   "source": [
    "#compile the model\n",
    "model_2.compile(optimizer = keras.optimizers.Adam(lr = 0.00001), loss = 'categorical_crossentropy', metrics = ['accuracy'])"
   ]
  },
  {
   "cell_type": "code",
   "execution_count": 79,
   "metadata": {},
   "outputs": [
    {
     "name": "stdout",
     "output_type": "stream",
     "text": [
      "Train on 111699 samples, validate on 47872 samples\n",
      "Epoch 1/5\n",
      "111699/111699 [==============================] - 49s 442us/step - loss: 0.2989 - acc: 0.9942 - val_loss: 0.2986 - val_acc: 0.9940\n",
      "Epoch 2/5\n",
      "111699/111699 [==============================] - 51s 456us/step - loss: 0.2990 - acc: 0.9942 - val_loss: 0.2987 - val_acc: 0.9940: 0.297\n",
      "Epoch 3/5\n",
      "111699/111699 [==============================] - 56s 499us/step - loss: 0.2991 - acc: 0.9942 - val_loss: 0.2987 - val_acc: 0.9940\n",
      "Epoch 4/5\n",
      "111699/111699 [==============================] - 43s 387us/step - loss: 0.2988 - acc: 0.9942 - val_loss: 0.2987 - val_acc: 0.9940\n",
      "Epoch 5/5\n",
      "111699/111699 [==============================] - 44s 391us/step - loss: 0.2989 - acc: 0.9942 - val_loss: 0.2987 - val_acc: 0.9940\n"
     ]
    }
   ],
   "source": [
    "#fit the model on the dataset\n",
    "history_2 = model_2.fit(padded_train, y_train, epochs = 5, batch_size = 32, validation_split = 0.3)"
   ]
  },
  {
   "cell_type": "code",
   "execution_count": 81,
   "metadata": {},
   "outputs": [
    {
     "name": "stdout",
     "output_type": "stream",
     "text": [
      "Saved model to disk\n"
     ]
    }
   ],
   "source": [
    "# serialize model to JSON\n",
    "model_json = model_2.to_json()\n",
    "with open(\"model_we.json\", \"w\") as json_file:\n",
    "    json_file.write(model_json)\n",
    "model_2.save_weights('MODEL2_we.h5')\n",
    "print(\"Saved model to disk\")"
   ]
  }
 ],
 "metadata": {
  "kernelspec": {
   "display_name": "Python 3",
   "language": "python",
   "name": "python3"
  },
  "language_info": {
   "codemirror_mode": {
    "name": "ipython",
    "version": 3
   },
   "file_extension": ".py",
   "mimetype": "text/x-python",
   "name": "python",
   "nbconvert_exporter": "python",
   "pygments_lexer": "ipython3",
   "version": "3.7.3"
  }
 },
 "nbformat": 4,
 "nbformat_minor": 2
}
